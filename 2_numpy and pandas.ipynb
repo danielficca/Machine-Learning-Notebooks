{
  "nbformat": 4,
  "nbformat_minor": 0,
  "metadata": {
    "colab": {
      "name": "HW2_ficca_daniel.ipynb",
      "provenance": [],
      "collapsed_sections": []
    },
    "kernelspec": {
      "name": "python3",
      "display_name": "Python 3"
    }
  },
  "cells": [
    {
      "cell_type": "markdown",
      "metadata": {
        "id": "bNsIruOzI4iF"
      },
      "source": [
        "## **Homework 2**\n",
        "\n",
        "### Create a copy of the notebook to start answering the questions. Name your notebook in the format HW1_lastname_firstname.ipynb to facilitate the grading process. \n",
        "\n",
        "### Answer all the questions, test your code to ensure there are no errors and the results are as expected. Once you have answered all the questions, save the final copy, then go to File-> click on Download.ipynb. Once the local copy has been downloaded, submit your file on Blackboard under the corresponding assignment section. Also provide us a link to your notebook during submission. \n",
        "\n",
        "### **The due date of this homework is 02/12/2021 (Friday).**\n",
        "\n",
        "### Please ensure you follow all the steps mentioned in the homework.\n",
        "\n",
        "### All the questions have a sample input and output to help you understand the question.\n",
        "\n",
        "### You can submit your solutions any number of times until the deadline.\n"
      ]
    },
    {
      "cell_type": "markdown",
      "metadata": {
        "id": "U3Yz3s2uio1F"
      },
      "source": [
        "**Q1. Lets consider your data is like the below cell:**\n",
        "\n",
        "**Q1-1**: Write a program that create a dataframe from the data.\n",
        "\n",
        "**Q1-2:** Select people that are psychologist or teacher and their number of cars is greater than their family size.\n",
        "\n",
        "**Q1-3:** Select people who have at most 2 family members and at least 1 car.\n",
        "\n",
        "**Q1-4:** Write a code that get number of unique jobs in this dataset.\n",
        "\n",
        "\n",
        "\n"
      ]
    },
    {
      "cell_type": "code",
      "metadata": {
        "id": "yR8lcOtcjxXD"
      },
      "source": [
        "data = {\"name\": [\"Joseph\", \"Jacob\", \"Sam\", \"Jesee\", \"Ryan\", \"Lisa\", \"Lee\"],\n",
        "        \"job\": [\"teacher\", \"psychologist\", \"data scientist\", \"software developer\", \"psychologist\", \"psychologist\", \"teacher\"],\n",
        "        \"family_size\": [3, 2, 1, 4, 2, 3, 2],\n",
        "        \"num_cars\": [3, 1, 1, 2, 2, 4, 1]}"
      ],
      "execution_count": 2,
      "outputs": []
    },
    {
      "cell_type": "code",
      "metadata": {
        "id": "Youi5qMaP34p"
      },
      "source": [
        "# Type your solution here\n",
        "import pandas as pd\n",
        "\n",
        "#Q1-1\n",
        "frame = pd.DataFrame(data)\n",
        "print(frame,\"\\n\")\n",
        "\n",
        "#Q1-2\n",
        "series1 = frame.name[((frame.job == \"psychologist\") | (frame.job == \"teacher\")) & (frame.num_cars > frame.family_size)]\n",
        "print(series1,\"\\n\")\n",
        "\n",
        "#Q1-3\n",
        "series2 = frame.name[(frame.family_size <= 2) & (frame.num_cars >= 1)]\n",
        "print(series2,\"\\n\")\n",
        "\n",
        "#Q1-4\n",
        "print(type(frame))\n",
        "unique_jobs = frame.job.unique()\n",
        "print(unique_jobs)"
      ],
      "execution_count": null,
      "outputs": []
    },
    {
      "cell_type": "markdown",
      "metadata": {
        "id": "Ow6nG8k4l91X"
      },
      "source": [
        "**Q2. Lets consider you have two series like the below cell. Compute the mean of weights of each fruit.**"
      ]
    },
    {
      "cell_type": "code",
      "metadata": {
        "id": "u-X_DoOzVLLB"
      },
      "source": [
        "import numpy as np\n",
        "fruit = pd.Series(np.random.choice(['apple', 'banana', 'carrot'], 10))\n",
        "weights = pd.Series(np.linspace(1, 10, 10))"
      ],
      "execution_count": null,
      "outputs": []
    },
    {
      "cell_type": "code",
      "metadata": {
        "id": "S419nzYnpU__",
        "colab": {
          "base_uri": "https://localhost:8080/"
        },
        "outputId": "42d63e66-5e20-463a-ad70-8d644390e38b"
      },
      "source": [
        "# Type your solution here\n",
        "\n",
        "# Create a dataframe with the 2 series\n",
        "df = pd.DataFrame(columns=['fruits','weights'])\n",
        "df['fruits'] = fruit\n",
        "df['weights'] = weights\n",
        "print(df,\"\\n\")\n",
        "\n",
        "# Group the dataframe by fruit then calculate mean\n",
        "grouped_df = df.groupby('fruits')\n",
        "mean_df = grouped_df.mean()\n",
        "print(mean_df)"
      ],
      "execution_count": null,
      "outputs": [
        {
          "output_type": "stream",
          "text": [
            "   fruits  weights\n",
            "0  banana      1.0\n",
            "1  banana      2.0\n",
            "2  carrot      3.0\n",
            "3  carrot      4.0\n",
            "4  carrot      5.0\n",
            "5  carrot      6.0\n",
            "6  banana      7.0\n",
            "7   apple      8.0\n",
            "8  banana      9.0\n",
            "9  banana     10.0 \n",
            "\n",
            "        weights\n",
            "fruits         \n",
            "apple       8.0\n",
            "banana      5.8\n",
            "carrot      4.5\n"
          ],
          "name": "stdout"
        }
      ]
    },
    {
      "cell_type": "markdown",
      "metadata": {
        "id": "g4lKaPIhtVrt"
      },
      "source": [
        "**Q3. Consider the below course_name array:**\n",
        "\n",
        "**Q3-1**: Write a NumPy program to get the indices of the sorted elements of **course_name** array.\n",
        "\n",
        "**Q3-2:** Write numpy code to check whether each element of **course_name** array starts with \"P\".\n"
      ]
    },
    {
      "cell_type": "code",
      "metadata": {
        "id": "RUP_jp2KtVrx"
      },
      "source": [
        "import numpy as np\n",
        "course_name = np.array(['Python', 'JS', 'examples', 'PHP', 'html'])"
      ],
      "execution_count": null,
      "outputs": []
    },
    {
      "cell_type": "code",
      "metadata": {
        "id": "U1i27POxv-o_"
      },
      "source": [
        "# Type your solution here\n",
        "\n",
        "#Q3-1\n",
        "# Sort the course_name array (not necessary, but just a sanity check)\n",
        "print(np.sort(course_name), \"\\n\")\n",
        "\n",
        "# Use argsort to find indices of sorted elements \n",
        "sort_index = np.argsort(course_name)\n",
        "print(\"Indices of sorted elements of course_name array:\", sort_index, \"\\n\")\n",
        "\n",
        "#Q3-2\n",
        "# Uses list comprehension to step through course_name and find values that start with P\n",
        "P_indices = [i for i, si in enumerate(course_name) if si.startswith('P')]\n",
        "print(course_name[P_indices])"
      ],
      "execution_count": null,
      "outputs": []
    },
    {
      "cell_type": "markdown",
      "metadata": {
        "id": "sUFItNFOxwkz"
      },
      "source": [
        "**Q4. Consider the below student_id array:**\n",
        "\n",
        "**Q4-1:** Reverse the **student_id** array. Print both original and reversed array.\n",
        "\n",
        "**Q4-2:** Get the 3-largest values of **student_id** array."
      ]
    },
    {
      "cell_type": "code",
      "metadata": {
        "id": "Rl5qzEjFv0nw"
      },
      "source": [
        "import numpy as np\n",
        "student_id = np.array([1023, 5202, 6230, 1671, 1682, 5241, 4532])"
      ],
      "execution_count": null,
      "outputs": []
    },
    {
      "cell_type": "code",
      "metadata": {
        "id": "EetvHGrUxMCC"
      },
      "source": [
        "# Type your solution here\n",
        "\n",
        "#Q4-1\n",
        "# Reverse the array then print original & reversed \n",
        "reverse_student_id = student_id[::-1]\n",
        "print(\"Orignal array:\", student_id)\n",
        "print(\"Reversed array:\", reverse_student_id)\n",
        "print(\"\\n\")\n",
        "\n",
        "#Q4-2\n",
        "# Sort the array in descending order\n",
        "student_id_sorted = -np.sort(-student_id)\n",
        "print(\"3-largest values of student_id array:\", student_id_sorted[0:3])\n"
      ],
      "execution_count": null,
      "outputs": []
    },
    {
      "cell_type": "markdown",
      "metadata": {
        "id": "uKRyDVuW6B19"
      },
      "source": [
        "# **Q5: Write a numpy program to print sum of all the multiples of 3 or 5 below 100**"
      ]
    },
    {
      "cell_type": "code",
      "metadata": {
        "id": "ZIixq1gz6OK3"
      },
      "source": [
        "# Type your solution here\n",
        "\n",
        "# Hint: you can use arange to start off\n",
        "\n",
        "# Create array with integers 0-99\n",
        "arr = np.arange(100)\n",
        "\n",
        "# Use enumerate to step through array & find all values divisible by 3 or 5, then add them \n",
        "print(\"Sum of all multiples of 3:\", sum([i for i, si in enumerate(arr) if i % 3 == 0]), \"\\n\")\n",
        "\n",
        "print(\"Sum of all multiples of 5:\", sum([i for i, si in enumerate(arr) if i % 5 == 0]))"
      ],
      "execution_count": null,
      "outputs": []
    },
    {
      "cell_type": "markdown",
      "metadata": {
        "id": "2CWJOsP24c34"
      },
      "source": [
        "**Q6. Consider the below array.**\n",
        "\n",
        "Q6.1. Write a code to swap column 1 with column 2.\n",
        "\n",
        "Q6.2. Write a code to swap row 0 with row 1."
      ]
    },
    {
      "cell_type": "code",
      "metadata": {
        "id": "3OG6X5Eg5KSM",
        "colab": {
          "base_uri": "https://localhost:8080/"
        },
        "outputId": "353bcbed-f56e-4122-9ab6-c0e9dbf558bd"
      },
      "source": [
        "import numpy as np\n",
        "\n",
        "arr = np.arange(12).reshape(3,4)\n",
        "print(arr)"
      ],
      "execution_count": null,
      "outputs": [
        {
          "output_type": "stream",
          "text": [
            "[[ 0  1  2  3]\n",
            " [ 4  5  6  7]\n",
            " [ 8  9 10 11]]\n"
          ],
          "name": "stdout"
        }
      ]
    },
    {
      "cell_type": "code",
      "metadata": {
        "id": "Q-Q91DpO5YYW"
      },
      "source": [
        "\n",
        "#Q6-1\n",
        "# Uses advanced slicing to reverse column 1 with column 2\n",
        "arr[:,[0, 1]] = arr[:,[1, 0]]\n",
        "print(arr)\n",
        "print(\"\\n\")\n",
        "\n",
        "#Q6-2\n",
        "# Uses advanced slicing to reverse row 0 with row 1\n",
        "arr[[0,1],:] = arr[[1,0],:]\n",
        "print(arr)\n"
      ],
      "execution_count": null,
      "outputs": []
    },
    {
      "cell_type": "code",
      "metadata": {
        "id": "hAOHYC79Fe2v"
      },
      "source": [
        ""
      ],
      "execution_count": null,
      "outputs": []
    }
  ]
}