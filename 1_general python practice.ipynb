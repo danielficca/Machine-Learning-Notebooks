{
  "nbformat": 4,
  "nbformat_minor": 0,
  "metadata": {
    "colab": {
      "name": "HW1_Ficca_Daniel.ipynb",
      "provenance": [],
      "collapsed_sections": []
    },
    "kernelspec": {
      "name": "python3",
      "display_name": "Python 3"
    }
  },
  "cells": [
    {
      "cell_type": "markdown",
      "metadata": {
        "id": "hm8RAKinXsIP"
      },
      "source": [
        "## **Homework 1**\n",
        "\n",
        "### Create a copy of the notebook to start answering the questions. Name your notebook in the format HW1_lastname_firstname.ipynb to facilitate the grading process. \n",
        "\n",
        "### Answer all the questions, test your code to ensure there are no errors and the results are as expected. Once you have answered all the questions, save the final copy, then go to File-> click on Download.ipynb. Once the local copy has been downloaded, submit your file on Blackboard under the corresponding assignment section. Also provide us a link to your notebook during submission. \n",
        "\n",
        "### **The due date of this homework is 02/05/2021 (Friday).**\n",
        "\n",
        "### Please ensure you follow all the steps mentioned in the homework.\n",
        "\n",
        "### All the questions have a sample input and output to help you understand the question. Please note that your programs will be tested for other sets of inputs and outputs along with the sample provided. So test your code for other inputs.\n",
        "\n",
        "### You can submit your solutions any number of times until the deadline.\n"
      ]
    },
    {
      "cell_type": "markdown",
      "metadata": {
        "id": "uacFrEaZfcfq"
      },
      "source": [
        "##### Q1. Write a program that prompts the user to enter a password then prints the length of the password.\n",
        "\n",
        "```\n",
        "Enter your password: hello\n",
        "Your password is 5 long.\n",
        "```\n",
        "\n",
        "\n"
      ]
    },
    {
      "cell_type": "code",
      "metadata": {
        "id": "avPyES14ftCt"
      },
      "source": [
        "# Type solution here\n",
        "password = input(\"Please enter a password: \")\n",
        "print(\"Your password is\", (len(password)), \"characters long.\")"
      ],
      "execution_count": null,
      "outputs": []
    },
    {
      "cell_type": "markdown",
      "metadata": {
        "id": "ekh-kABuItli"
      },
      "source": [
        ""
      ]
    },
    {
      "cell_type": "markdown",
      "metadata": {
        "id": "K1yko-xUItU3"
      },
      "source": [
        ""
      ]
    },
    {
      "cell_type": "markdown",
      "metadata": {
        "id": "behD0j_Of2TW"
      },
      "source": [
        "##### Q2. Write a program that prompts the user to enter their full name then prints the number of characters in their name (do not count spaces).\n",
        "\n",
        "```\n",
        "What is your name? Amulya Katti\n",
        "Amulya Katti your name has 11 characters.\n",
        "```"
      ]
    },
    {
      "cell_type": "code",
      "metadata": {
        "id": "XSdIRjwlhSlu"
      },
      "source": [
        "# Type solution here\n",
        "\n",
        "name = input(\"What is your name?: \")\n",
        "#name.replace finds all the white-spaces in and replaces them with nothing\n",
        "namenospace = name.replace(\" \",\"\")\n",
        "print(name, \"your name has\", (len(namenospace)), \"characters.\")"
      ],
      "execution_count": null,
      "outputs": []
    },
    {
      "cell_type": "markdown",
      "metadata": {
        "id": "5KHOWF6FhVHV"
      },
      "source": [
        "##### Q3. Write a program that prompts the user to enter a month (as a number), then prints the name of the month and the number of days in that month. Ensure that the user inputs a valid month and handle any error cases.\n",
        "\n",
        "```\n",
        "Enter the month number: 9\n",
        "September has 30 days\n",
        "```"
      ]
    },
    {
      "cell_type": "code",
      "metadata": {
        "id": "KhS-SAEThyTG"
      },
      "source": [
        "# Type solution here\n",
        "\n",
        "#monthlist puts all the months in a list\n",
        "monthlist = ['January','February','March','April','May','June','July','August','September','October','November','December']\n",
        "month = int(input(\"Enter the month number (1-12): \"))\n",
        "\n",
        "#This section asks the user to input an answer until it is between 1 & 12\n",
        "valid = True\n",
        "while valid: \n",
        "  if month < 1 or month > 12:\n",
        "    print(\"Your input is invalid, please try again.\")\n",
        "    month = int(input(\"Enter the month number: \"))\n",
        "  else:\n",
        "    valid = False\n",
        "\n",
        "#This section prints 28 days if they chose Feb., 30 days if they chose an even month, and 31 days for odd months\n",
        "if month == 2:\n",
        "  print(monthlist[month -1], \"has 28 days.\")\n",
        "elif month % 2 == 0:\n",
        "  print(monthlist[month - 1], \"has 30 days.\")\n",
        "else:\n",
        "  print(monthlist[month - 1], \"has 31 days.\")\n",
        "\n"
      ],
      "execution_count": null,
      "outputs": []
    },
    {
      "cell_type": "markdown",
      "metadata": {
        "id": "O7lnAdGlh6Xa"
      },
      "source": [
        "##### Q4. Write a program that prompts the user to enter a loan amount, annual interest rate, and number of years  for a car loan. Then calculate and print the monthly payment amount.\n",
        "\n",
        "Note:\n",
        "```\n",
        "PMT= [PV*i*((1+i)^n)]/[((1+i)^n)-1]\n",
        "```\n",
        "PMT is the monthly payment\n",
        "\n",
        "PV is the loan amount\n",
        "\n",
        "i is the interest rate per month in decimal form (interest rate percentage divided by 12)\n",
        "\n",
        "n is the number of months (term of the loan in months)\n",
        "\n",
        "```\n",
        "Loan Amount: 30000.00\n",
        "Annual Interest Rate: 4.00\n",
        "Years: 5\n",
        "Your monthly payment is: $552.50\n",
        "```"
      ]
    },
    {
      "cell_type": "code",
      "metadata": {
        "id": "p4B5JH5GiTs9"
      },
      "source": [
        "# Type solution here\n",
        "\n",
        "print(\"This program will calculate your monthly payment amount for a car loan.\")\n",
        "PV = float(input(\"Please enter a loan amount: \"))\n",
        "i = float(input(\"Please enter an interest rate: \"))\n",
        "i = (i/100)/12\n",
        "years = int(input(\"Please the number of years for the loan: \"))\n",
        "n = years * 12\n",
        "\n",
        "PMT = (PV*i*((1+i)**n))/(((1+i)**n)-1)\n",
        "PMT = str(round(PMT, 2))\n",
        "print(\"Your monthly payment is: $\" + PMT)\n"
      ],
      "execution_count": null,
      "outputs": []
    },
    {
      "cell_type": "markdown",
      "metadata": {
        "id": "SjiolJKgiWV-"
      },
      "source": [
        "##### Q5. Write a program to that prompts the user to enter a string. Then check whether or not the string is a palindrome.\n",
        "\n",
        "```\n",
        "Enter a string: Madam\n",
        "Madam, is a palindrome!\n",
        "```"
      ]
    },
    {
      "cell_type": "code",
      "metadata": {
        "id": "F5_M934Ri0es"
      },
      "source": [
        "# Type solution here\n",
        "\n",
        "string = input(\"Enter a string: \")\n",
        "#This reverses the string by slicing the string starting at the end & working backwards by a step of -1\n",
        "stringreverse = string[::-1]\n",
        "\n",
        "#If the string entered is equal to the reversed string, it's a palindrome\n",
        "if string.lower() == stringreverse.lower():\n",
        "  print(string, \"is a palindrome!\")\n",
        "else:\n",
        "  print(string, \"is not a palindrome!\")"
      ],
      "execution_count": null,
      "outputs": []
    },
    {
      "cell_type": "markdown",
      "metadata": {
        "id": "BLBD6n9vkJEu"
      },
      "source": [
        "##### Q6. Write a program to compute and print all possible combinations of change for \\$1. Denominations to be considered – quarter, dime, nickel, penny.\n",
        "\n",
        "Hint: Use nested loops (loops within loops for the various denominations of coins)\n",
        "\n",
        "```\n",
        "Change for $1:\n",
        "0 quarters, 0 dimes, 0 nickels, 100 pennies\n",
        "…\n",
        "4 quarters, 0 dimes, 0 nickels, 0 pennies\n",
        "```"
      ]
    },
    {
      "cell_type": "code",
      "metadata": {
        "id": "kAQsTjwDkZZ5"
      },
      "source": [
        "# Type solution here\n",
        "\n",
        "#The nested for loops go through every combo of quarters, dimes, nickels, & pennies, and prints if the value (in pennies) equals 100 \n",
        "for quarters in range(5):\n",
        "  for dimes in range(11):\n",
        "    for nickels in range(21):\n",
        "      for pennies in range(101):\n",
        "        if (pennies + (nickels*5) + (dimes*10) + (quarters*25)) == 100:\n",
        "          print(quarters, \"quarters,\", dimes, \"dimes,\", nickels, \"nickels,\", pennies, \"pennies\")"
      ],
      "execution_count": null,
      "outputs": []
    },
    {
      "cell_type": "markdown",
      "metadata": {
        "id": "rUPDjYiIkbgs"
      },
      "source": [
        "##### Q7. Ask the user to enter two positive integers between 1 and 100. Read those integers. Then output a multiplication table of the first number times the second number. \n",
        "\n",
        "Note: You have to ensure the entered numbers are between 1 and 100 only.\n",
        "\n",
        "```\n",
        "Please enter an integer: 5\n",
        "Please enter another integer: 20\n",
        "5 x 1 = 5\n",
        "5 x 2 = 10\n",
        "5 x 3 = 15\n",
        "…\n",
        "5 x 20 = 100\n",
        "```"
      ]
    },
    {
      "cell_type": "code",
      "metadata": {
        "id": "Qg0Orv1klHzA"
      },
      "source": [
        "# Type solution here\n",
        "\n",
        "int1 = int(input(\"Please enter an integer (1-100): \"))\n",
        "int2 = int(input(\"Please enter another integer (1-100): \"))\n",
        "\n",
        "# Checks to make sure the user inputted 2 valid numbers\n",
        "valid = True\n",
        "while valid: \n",
        "  if int1 < 1 or int1 > 100:\n",
        "    print(\"Your 1st input is invalid, please try again.\")\n",
        "    int1 = int(input(\"Please enter an integer (1-100): \"))\n",
        "  elif int2 < 1 or int2 > 100:\n",
        "    print(\"Your 2nd input is invalid, please try again.\")\n",
        "    int2 = int(input(\"Please enter another integer (1-100): \"))\n",
        "  else:\n",
        "    valid = False\n",
        "\n",
        "# Creates multiplication table with a for loop\n",
        "for n in range(int2 + 1):\n",
        "  multiple = (int1*n) \n",
        "  print(int1, \"x\", n, \"=\", multiple)"
      ],
      "execution_count": null,
      "outputs": []
    },
    {
      "cell_type": "markdown",
      "metadata": {
        "id": "SbnbPUPTlLD9"
      },
      "source": [
        "##### Q8. Write a program to ask the user to enter a password. Then check to see if it is a valid password based on these requirements -\n",
        "\n",
        "Must be at least 8 characters long\n",
        "\n",
        "Must contain both uppercase and lowercase letters\n",
        "\n",
        "Must contain at least one number between 0-9\n",
        "\n",
        "Must contain a special character -!,@,#,$\n",
        "\n",
        "If the password is not valid, ask the user to re-enter. This should continue until the user enters a valid password. After a valid password is entered, print Access Granted!\n",
        "\n",
        "```\n",
        "Please enter a password. Follow these requirements - \n",
        "a. Must be at least 8 characters long\n",
        "b. Must contain both uppercase and lowercase letters\n",
        "c. Must contain at least one number between 0-9\n",
        "d. Must contain a special character -!,@,#,$\n",
        "Password: HelloWorld1\n",
        "Invalid password. Try again!\n",
        "Password: Hello@World1\n",
        "Access Granted!\n",
        "```\n"
      ]
    },
    {
      "cell_type": "code",
      "metadata": {
        "id": "OXmZ177Rl-RV"
      },
      "source": [
        "# Type solution here\n",
        "\n",
        "# Function for determining if password contains a number\n",
        "def contains_digit(number):\n",
        "  if number.isdigit():\n",
        "    return True\n",
        "  else:\n",
        "    return False\n",
        "  \n",
        "# Function for determining if password contains a special character\n",
        "def contains_spec_char(character):\n",
        "  Spec_Char_List = ['-','!','@','#','$']\n",
        "  if character in Spec_Char_List:\n",
        "    return True\n",
        "  else:\n",
        "    return False\n",
        "\n",
        "# Asks user to input a password\n",
        "password = input(\"Please enter a password: \")\n",
        "\n",
        "# While loop repeats until a valid password is entered \n",
        "valid = True \n",
        "while valid:\n",
        "  # Checks for if password is at least 8 characters \n",
        "  if len(password) < 8: \n",
        "    print(\"Your password must be at least 8 characters long.\")\n",
        "    password = input(\"Please enter a password: \")\n",
        "\n",
        "  # Checks if password is either all lower or all upper characters\n",
        "  elif password.islower() or password.isupper():\n",
        "    print(\"Your password must contain both uppercase and lowercase letters.\")\n",
        "    password = input(\"Please enter a password: \")\n",
        "\n",
        "  # Checks if a list of all the digits in the password has any elements in it\n",
        "  elif len([i for i in password if contains_digit(i)]) < 1:\n",
        "    print(\"Your password must contain at least one number between 0 and 9.\")\n",
        "    password = input(\"Please enter a password: \")\n",
        "\n",
        "  # Check if there are any special characters\n",
        "  elif not [i for i in password if contains_spec_char(i)]:\n",
        "    print(\"Your password must contain a special character -!,@,#,$\")\n",
        "    password = input(\"Please enter a password: \")\n",
        "  else:\n",
        "    print(\"Access granted!\")\n",
        "    valid = False\n",
        "  \n",
        "\n"
      ],
      "execution_count": null,
      "outputs": []
    },
    {
      "cell_type": "markdown",
      "metadata": {
        "id": "-0sdutTDnTKA"
      },
      "source": [
        "##### Q9. Given the score sheet of participants in a competition, you are required to find the runner-up score. You are given scores in a list. Find the score of the runner-up.\n",
        "\n",
        "```\n",
        "list1 - [2, 3, 6, 6, 5]\n",
        "runner_up - 5\n",
        "\n",
        "list2 - [1, 7, 5, 3, 10, 4, 5, 5, 6, 11]\n",
        "runner_up - 10\n",
        "```"
      ]
    },
    {
      "cell_type": "code",
      "metadata": {
        "id": "12YP9OaqpGRK"
      },
      "source": [
        "# Type solution here\n",
        "# Initiates and sorts lists\n",
        "list1 = [2, 3, 6, 6, 5]\n",
        "list1.sort()\n",
        "\n",
        "list2 = [1, 7, 5, 3, 10, 4, 5, 5, 6, 11]\n",
        "list2.sort()\n",
        "\n",
        "# Removes duplicates\n",
        "list1noduplicates = [] \n",
        "for i in list1: \n",
        "    if i not in list1noduplicates: \n",
        "        list1noduplicates.append(i) \n",
        "\n",
        "list2noduplicates = [] \n",
        "for i in list2: \n",
        "    if i not in list2noduplicates: \n",
        "        list2noduplicates.append(i) \n",
        "\n",
        "# Prints runner ups\n",
        "print(\"Runner_up -\", list1noduplicates[-2])\n",
        "print(\"Runner_up -\", list2noduplicates[-2])\n"
      ],
      "execution_count": null,
      "outputs": []
    }
  ]
}